{
 "cells": [
  {
   "cell_type": "markdown",
   "id": "eb0bfa44",
   "metadata": {},
   "source": [
    "## 1. 뉴스제목 가져오기\n",
    "* user-agent 요청헤더를 반드시 설정해야 한다."
   ]
  },
  {
   "cell_type": "code",
   "execution_count": 2,
   "id": "f0d27781",
   "metadata": {},
   "outputs": [
    {
     "name": "stdout",
     "output_type": "stream",
     "text": [
      "Name: requests\n",
      "Version: 2.32.2\n",
      "Summary: Python HTTP for Humans.\n",
      "Home-page: https://requests.readthedocs.io\n",
      "Author: Kenneth Reitz\n",
      "Author-email: me@kennethreitz.org\n",
      "License: Apache-2.0\n",
      "Location: C:\\Users\\jiin\\anaconda3\\Lib\\site-packages\n",
      "Requires: certifi, charset-normalizer, idna, urllib3\n",
      "Required-by: anaconda-catalogs, anaconda-client, anaconda-cloud-auth, anaconda-project, conda, conda-build, conda-repo-cli, conda_package_streaming, cookiecutter, datashader, intake, jupyterlab_server, panel, requests-file, requests-toolbelt, Sphinx, streamlit, tldextract\n"
     ]
    }
   ],
   "source": [
    "!pip show requests"
   ]
  },
  {
   "cell_type": "code",
   "execution_count": 3,
   "id": "f7798ea8",
   "metadata": {},
   "outputs": [
    {
     "name": "stdout",
     "output_type": "stream",
     "text": [
      "Name: beautifulsoup4\n",
      "Version: 4.12.3\n",
      "Summary: Screen-scraping library\n",
      "Home-page: \n",
      "Author: \n",
      "Author-email: Leonard Richardson <leonardr@segfault.org>\n",
      "License: MIT License\n",
      "Location: C:\\Users\\jiin\\anaconda3\\Lib\\site-packages\n",
      "Requires: soupsieve\n",
      "Required-by: conda-build, nbconvert\n"
     ]
    }
   ],
   "source": [
    "!pip show beautifulsoup4"
   ]
  },
  {
   "cell_type": "code",
   "execution_count": 4,
   "id": "bf80a429",
   "metadata": {},
   "outputs": [],
   "source": [
    "import requests\n",
    "import bs4\n",
    "from bs4 import BeautifulSoup"
   ]
  },
  {
   "cell_type": "code",
   "execution_count": 5,
   "id": "9788d6ac",
   "metadata": {},
   "outputs": [
    {
     "name": "stdout",
     "output_type": "stream",
     "text": [
      "request ver 2.32.2\n",
      "beautifulsoup 4.12.3\n"
     ]
    }
   ],
   "source": [
    "print(f'request ver {requests.__version__}' )\n",
    "print('beautifulsoup {}'.format(bs4.__version__))"
   ]
  },
  {
   "cell_type": "markdown",
   "id": "ccb91def-cde3-4aeb-b0e5-2e7233500333",
   "metadata": {},
   "source": [
    "### 1. 뉴스 제목 추출하기"
   ]
  },
  {
   "cell_type": "code",
   "execution_count": 6,
   "id": "94c12fd6",
   "metadata": {
    "collapsed": true,
    "jupyter": {
     "outputs_hidden": true
    }
   },
   "outputs": [
    {
     "name": "stdout",
     "output_type": "stream",
     "text": [
      "https://news.naver.com/section/105\n",
      "<class 'requests.models.Response'>\n",
      "200\n",
      "True\n",
      "news 제목 = 김지인 그램퍼스 대표 \"BTS 쿠킹온, 1차 타깃은 '아미'…닌텐도 스위치 확장 고려\"\n",
      "news 링크 = https://n.news.naver.com/mnews/article/031/0000859549\n",
      "news 제목 = 엔씨, 서브컬쳐 전문 '빅게임스튜디오'에 370억 투자\n",
      "news 링크 = https://n.news.naver.com/mnews/article/277/0005455199\n",
      "news 제목 = “이건 너무 심했다” 쏟아지는 뭇매…초유의 이탈 사태\n",
      "news 링크 = https://n.news.naver.com/mnews/article/016/0002345717\n",
      "news 제목 = \"오픈AI, 논문 등에 챗GPT 이용 감지 기술 개발…공개 안 해\"\n",
      "news 링크 = https://n.news.naver.com/mnews/article/001/0014854165\n",
      "news 제목 = 중국 틱톡, EU서 ‘보상 프로그램’ 폐지…과징금 압력에 ‘백기’\n",
      "news 링크 = https://n.news.naver.com/mnews/article/056/0011775508\n",
      "news 제목 = 김태규 방통위원장 직무대행 “이진숙 탄핵, 희대의 촌극...헌재도 신속한 심판 부탁”\n",
      "news 링크 = https://n.news.naver.com/mnews/article/366/0001009961\n",
      "news 제목 = 삼성 올림픽 체험관에 몰린 메달리스트…“갤럭시 AI로 언어장벽 넘어 소통”\n",
      "news 링크 = https://n.news.naver.com/mnews/article/016/0002345784\n",
      "news 제목 = 서울대 연구진, 배터리 ‘열폭주’ 원인 밝혔다...억제 방법까지 제시\n",
      "news 링크 = https://n.news.naver.com/mnews/article/021/0002652464\n",
      "news 제목 = 200억 증자한 지아이이노베이션, 추가 자금조달 가능성은\n",
      "news 링크 = https://n.news.naver.com/mnews/article/018/0005805876\n",
      "news 제목 = 머스크의 뉴럴링크, 척수 손상 환자 뇌에 두 번째 칩 이식 시술\n",
      "news 링크 = https://n.news.naver.com/mnews/article/028/0002701474\n",
      "news 제목 = 삼성전자, 0.65mm 두께 12나노급 LPDDR5X D램 양산\n",
      "news 링크 = https://n.news.naver.com/mnews/article/092/0002341000\n",
      "news 제목 = 디지털 기기·데이터센터·챗GPT 동시 이용 가능한 애플 ‘하이브리드 AI’\n",
      "news 링크 = https://n.news.naver.com/mnews/article/037/0000034808\n",
      "news 제목 = 삼성전자, 업계 최소 두께 LPDDR5X D램 양산…온 디바이스 AI 연산 최적화\n",
      "news 링크 = https://n.news.naver.com/mnews/article/629/0000310785\n",
      "news 제목 = 셔틀콕 여제도 들렀다…선수들 갤럭시 AI 통역 기능에 '감탄'\n",
      "news 링크 = https://n.news.naver.com/mnews/article/092/0002340994\n",
      "news 제목 = [과학을 읽다]AI가 앞당기는 '핵융시대'‥국제협력보다 각자도생\n",
      "news 링크 = https://n.news.naver.com/mnews/article/277/0005455438\n",
      "news 제목 = 주주 위한거 맞아?...두산·SK에 꽂힌 불편한 시선\n",
      "news 링크 = https://n.news.naver.com/mnews/article/092/0002340985\n",
      "news 제목 = [사이언스카페] 25만년 전 무덤 만든 인류, 넷플릭스 상상이었을까\n",
      "news 링크 = https://n.news.naver.com/mnews/article/366/0001010043\n",
      "news 제목 = 인텔, ASML 하이NA EUV 2호기도 도입… 올해 납품분 '독점'\n",
      "news 링크 = https://n.news.naver.com/mnews/article/011/0004376407\n",
      "news 제목 = \"삼성보다 50만 원 싸다\"…中 화웨이 '노바 플립' 발매\n",
      "news 링크 = https://n.news.naver.com/mnews/article/092/0002340980\n",
      "news 제목 = 구글 검색 시장 반독점 소송 패소… 기업 분할까지 거론\n",
      "news 링크 = https://n.news.naver.com/mnews/article/011/0004376385\n",
      "news 제목 = \"그린란드 빙상 온난화에 취약..과거 중심부까지 녹아\"\n",
      "news 링크 = https://n.news.naver.com/mnews/article/215/0001173995\n",
      "news 제목 = [인터뷰] “나이 들면 小食은 금물…다양하게 먹어야 노화 느려진다 ”\n",
      "news 링크 = https://n.news.naver.com/mnews/article/366/0001010022\n",
      "news 제목 = 美 버라이즌 5G 투자 확대에… 불황 속 삼성전자 네트워크 사업 구세주 될까\n",
      "news 링크 = https://n.news.naver.com/mnews/article/366/0001010020\n",
      "news 제목 = 김연아에 쯔위도 구형 아이폰 사진에 푹.. 삼성 고심 커진다 [1일IT템]\n",
      "news 링크 = https://n.news.naver.com/mnews/article/014/0005223669\n",
      "news 제목 = \"한국인 피부암 덜 걸린다\"는 옛말…자외선 차단 필수\n",
      "news 링크 = https://n.news.naver.com/mnews/article/092/0002340979\n",
      "news 제목 = 스마트폰 시장, 3년 만에 회복세…삼성-애플 격차 커진다\n",
      "news 링크 = https://n.news.naver.com/mnews/article/003/0012711539\n",
      "news 제목 = 美 법원, 구글 '검색 독점 기업' 낙인 찍었다...반독점 소송 패소\n",
      "news 링크 = https://n.news.naver.com/mnews/article/023/0003850781\n",
      "news 제목 = [우보세]방송통신위원회, '존재'의 위기\n",
      "news 링크 = https://n.news.naver.com/mnews/article/008/0005073303\n",
      "news 제목 = 적자 면한 엔씨, 영업익 4분의 1토막...\"리니지 3형제 부진\"\n",
      "news 링크 = https://n.news.naver.com/mnews/article/008/0005073301\n",
      "news 제목 = 한국 홀대론 사라질까… '아이폰16' 1차 출시국 기대감↑\n",
      "news 링크 = https://n.news.naver.com/mnews/article/417/0001018984\n",
      "news 제목 = 챗GPT는 물먹는 하마였다…기후해결사의 아이러니\n",
      "news 링크 = https://n.news.naver.com/mnews/article/025/0003378105\n",
      "news 제목 = 대학병원들 응급의학과 전문의 구인난…\"연봉 4억에도 안온다\"\n",
      "news 링크 = https://n.news.naver.com/mnews/article/421/0007712224\n",
      "news 제목 = 머스크, 오픈AI에 또 소송...”셰익스피어 소설처럼 배신당해”\n",
      "news 링크 = https://n.news.naver.com/mnews/article/023/0003850773\n",
      "news 제목 = 기술주에 대한 시장의 '처벌'? 매그니피센트 7 시총 한때 1조 달러 증발\n",
      "news 링크 = https://n.news.naver.com/mnews/article/023/0003850770\n",
      "news 제목 = 달 토양서 발견된 물 분자의 의미\n",
      "news 링크 = https://n.news.naver.com/mnews/article/053/0000045109\n",
      "news 제목 = 최초 피라미드의 건축 비밀, '수력 엘리베이터'에 있다\n",
      "news 링크 = https://n.news.naver.com/mnews/article/584/0000028186\n",
      "news 제목 = 삼성전자, 파운드리 고객사인 美 AI 반도체 '그로크'에 투자\n",
      "news 링크 = https://n.news.naver.com/mnews/article/092/0002340978\n",
      "news 제목 = ‘AI 가면’만 쓴 허세기업 주의보\n",
      "news 링크 = https://n.news.naver.com/mnews/article/023/0003850712\n",
      "news 제목 = 외국인 관광객들, 이젠 한국 앱 쓰며 여행 즐긴다\n",
      "news 링크 = https://n.news.naver.com/mnews/article/023/0003850705\n",
      "news 제목 = ‘쿵푸팬더’ 여우 어때? ‘007’ M은?…AI 목소리 찾는다\n",
      "news 링크 = https://n.news.naver.com/mnews/article/025/0003378047\n",
      "news 제목 = 구영배 대표, 큐익스 경영권 상실 위기…밀린 정산금은?\n",
      "news 링크 = https://n.news.naver.com/mnews/article/092/0002340977\n",
      "news 제목 = 게임코인 아버지 장현국 결국 재판행…허위 공지로 코인·주식 매수 유도 혐의\n",
      "news 링크 = https://n.news.naver.com/mnews/article/016/0002345725\n",
      "news 제목 = 비트코인, 한때 5만달러 붕괴…6개월 만에 처음\n",
      "news 링크 = https://n.news.naver.com/mnews/article/018/0005805709\n",
      "news 제목 = “이건 너무 심했다” 쏟아지는 뭇매…초유의 이탈 사태\n",
      "news 링크 = https://n.news.naver.com/mnews/article/016/0002345717\n"
     ]
    }
   ],
   "source": [
    "# IT/과학 뉴스\n",
    "req_param = {\n",
    "    'sid': 105\n",
    "}\n",
    "url = 'https://news.naver.com/section/{sid}'.format(**req_param)\n",
    "print(url)\n",
    "# 요청 헤더 설정 : 브라우저 정보\n",
    "req_header = {\n",
    "    'user-agent': 'Mozilla/5.0 (Windows NT 10.0; Win64; x64) AppleWebKit/537.36 (KHTML, like Gecko) Chrome/104.0.0.0 Safari/537.36'\n",
    "}\n",
    "# requests 모듈을 사용해서 http 통신 \n",
    "res = requests.get(url, headers=req_header)\n",
    "print(type(res))\n",
    "print(res.status_code) #200\n",
    "print(res.ok) #True\n",
    "if res.ok:\n",
    "    # 소스보기 텍스트 가져오기\n",
    "    html = res.text\n",
    "    # parsing을 하기 위해서 BeautifulSoup 객체생성\n",
    "    soup = BeautifulSoup(html, \"html.parser\")\n",
    "    #print(type(soup))\n",
    "    '''\n",
    "        <div class='sa_text'>\n",
    "            <a href='https://n.news.naver.com/mnews/article/092/0002340904' class='sa_text_title'>\n",
    "               <strong class=\"sa_text_strong\">엔씨소프트, 2분기 영업익 88억...실적 개선 박차</strong>\n",
    "    '''\n",
    "    #print(len(soup.select(\"div.sa_text a[href*='https://n.news.naver.com/mnews/article']\")))\n",
    "    #print(len(soup.select(\"div.sa_text a.sa_text_title\")))\n",
    "    atag_list = soup.select(\"div.sa_text a.sa_text_title\")\n",
    "    #print(type(atag_list))\n",
    "    for atag in atag_list:\n",
    "        # text속성: tag사이의 content, strip()공백제거\n",
    "        title = atag.text.strip()\n",
    "        # href 속성의 값을 추출하기\n",
    "        url = atag['href']\n",
    "        print(f'news 제목 = {title}')\n",
    "        print(f'news 링크 = {url}')\n",
    "else:\n",
    "    print(f'Error 발생 {res.status_code}')"
   ]
  },
  {
   "cell_type": "code",
   "execution_count": 7,
   "id": "4461b9cc",
   "metadata": {},
   "outputs": [],
   "source": [
    "section_dict = {100:'정치',101:'경제',102:'사회',103:'생활/문화',104:'세계',105:'IT/과학'}"
   ]
  },
  {
   "cell_type": "markdown",
   "id": "45640860-a449-4285-90d7-5f300292b461",
   "metadata": {},
   "source": [
    "### 1.1 뉴스제목 추출하는 함수 선언하기"
   ]
  },
  {
   "cell_type": "code",
   "execution_count": 8,
   "id": "a3ac882e-15ee-44e4-8cc6-625d760aad0f",
   "metadata": {},
   "outputs": [],
   "source": [
    "import requests\n",
    "from bs4 import BeautifulSoup"
   ]
  },
  {
   "cell_type": "code",
   "execution_count": 9,
   "id": "9ee18829-fc0a-47b7-ad5d-f92ca26bb54f",
   "metadata": {},
   "outputs": [],
   "source": [
    "def print_news(sid, section):    \n",
    "    # 요청 Parameter\n",
    "    req_param = {\n",
    "    'sid': sid\n",
    "    }\n",
    "    url = 'https://news.naver.com/section/{sid}'.format(**req_param)\n",
    "    \n",
    "    print(f'======> {url} {section} 뉴스 <======')\n",
    "    \n",
    "    # 요청 헤더 설정 : 브라우저 정보\n",
    "    req_header = {\n",
    "        'user-agent': 'Mozilla/5.0 (Windows NT 10.0; Win64; x64) AppleWebKit/537.36 (KHTML, like Gecko) Chrome/104.0.0.0 Safari/537.36'\n",
    "    }\n",
    "    # requests 모듈을 사용해서 http 통신 \n",
    "    res = requests.get(url, headers=req_header)\n",
    "    print(type(res))\n",
    "    print(res.status_code) #200\n",
    "    print(res.ok) #True\n",
    "    if res.ok:\n",
    "        # 소스보기 텍스트 가져오기\n",
    "        html = res.text\n",
    "        # parsing을 하기 위해서 BeautifulSoup 객체생성\n",
    "        soup = BeautifulSoup(html, \"html.parser\")\n",
    "        #print(type(soup))\n",
    "        '''\n",
    "            <div class='sa_text'>\n",
    "                <a href='https://n.news.naver.com/mnews/article/092/0002340904' class='sa_text_title'>\n",
    "                   <strong class=\"sa_text_strong\">엔씨소프트, 2분기 영업익 88억...실적 개선 박차</strong>\n",
    "        '''\n",
    "        #print(len(soup.select(\"div.sa_text a[href*='https://n.news.naver.com/mnews/article']\")))\n",
    "        #print(len(soup.select(\"div.sa_text a.sa_text_title\")))\n",
    "        atag_list = soup.select(\"div.sa_text a.sa_text_title\")\n",
    "        #print(type(atag_list))\n",
    "        for atag in atag_list:\n",
    "            # text속성: tag사이의 content, strip()공백제거\n",
    "            title = atag.text.strip()\n",
    "            # href 속성의 값을 추출하기\n",
    "            url = atag['href']\n",
    "            print(f'news 제목 = {title}')\n",
    "            print(f'news 링크 = {url}')\n",
    "    else:\n",
    "        print(f'Error 발생 {res.status_code}')\n",
    "        \n",
    "    "
   ]
  },
  {
   "cell_type": "code",
   "execution_count": 10,
   "id": "858952c6",
   "metadata": {
    "collapsed": true,
    "jupyter": {
     "outputs_hidden": true
    }
   },
   "outputs": [
    {
     "name": "stdout",
     "output_type": "stream",
     "text": [
      "======> https://news.naver.com/section/103 생활/문화 뉴스 <======\n",
      "<class 'requests.models.Response'>\n",
      "200\n",
      "True\n",
      "news 제목 = ‘찜통더위’ 계속, 낮 기온 35도…일부 소나기도[오늘날씨]\n",
      "news 링크 = https://n.news.naver.com/mnews/article/018/0005804878\n",
      "news 제목 = 전이성 유방암 환자 2명 중 1명, 치료 길 열렸다\n",
      "news 링크 = https://n.news.naver.com/mnews/article/056/0011774950\n",
      "news 제목 = 전국 펄펄, 폭염 기승‥강한 소나기 계속[날씨]\n",
      "news 링크 = https://n.news.naver.com/mnews/article/214/0001365816\n",
      "news 제목 = 화요일도 여지없이 '무더위'…남부지방 거센 소나기\n",
      "news 링크 = https://n.news.naver.com/mnews/article/001/0014855874\n",
      "news 제목 = 고물가에 휴게소 음식도 가격 올랐다…돈가스 기본 1만원·국밥 9000원\n",
      "news 링크 = https://n.news.naver.com/mnews/article/654/0000083496\n",
      "news 제목 = [아미랑] ​암 재발 막는 영양소, 오메가3 ‘이렇게’ 드세요\n",
      "news 링크 = https://n.news.naver.com/mnews/article/346/0000078458\n",
      "news 제목 = 비싸서 못 산 쌈 야채를 길에서 만날 줄이야\n",
      "news 링크 = https://n.news.naver.com/mnews/article/047/0002442073\n",
      "news 제목 = 경기 양평 간밤 시간당 86㎜ 폭우…정전·침수 등 피해 잇따라\n",
      "news 링크 = https://n.news.naver.com/mnews/article/001/0014857034\n",
      "news 제목 = [날씨] 열대야·폭염 기승…곳곳 강한 소나기\n",
      "news 링크 = https://n.news.naver.com/mnews/article/422/0000674885\n",
      "news 제목 = 유명 갤러리 줄폐업에 '비명'…미술시장까지 덮친 'R의 공포'\n",
      "news 링크 = https://n.news.naver.com/mnews/article/015/0005018494\n",
      "news 제목 = [맛있는 이야기] 조상들 사시사철 즐겼다지만…그래도 여름이 제철 ‘냉면’\n",
      "news 링크 = https://n.news.naver.com/mnews/article/662/0000049151\n",
      "news 제목 = 갈지 말고 채 썰어요...고소한 풍미 가득한 감자채전 [쿠킹]\n",
      "news 링크 = https://n.news.naver.com/mnews/article/025/0003378118\n",
      "news 제목 = [제주날씨] 오늘 늦은 오후까지 소나기!, 해안가 저지대 침수 피해 가능성!\n",
      "news 링크 = https://n.news.naver.com/mnews/article/661/0000043204\n",
      "news 제목 = 극장가 여름대작이 정말로 사라졌다\n",
      "news 링크 = https://n.news.naver.com/mnews/article/006/0000125340\n",
      "news 제목 = \"휴게소서 국밥 한그릇 먹으려다…\" 또 오른 가격에 '깜짝'\n",
      "news 링크 = https://n.news.naver.com/mnews/article/015/0005018489\n",
      "news 제목 = [출근길 날씨] 폭염·열대야 계속…곳곳에 강한 소나기\n",
      "news 링크 = https://n.news.naver.com/mnews/article/056/0011775648\n",
      "news 제목 = [날씨] 푹푹 찌는 찜통더위 계속…곳곳 국지적인 강한 소나기\n",
      "news 링크 = https://n.news.naver.com/mnews/article/422/0000674865\n",
      "news 제목 = [날씨] 당분간 열대야·무더위 계속‥곳곳에 소나기\n",
      "news 링크 = https://n.news.naver.com/mnews/article/214/0001366061\n",
      "news 제목 = 의원 한마디에 폐타이어 한꺼번에 제거…\"예산만 낭비\"\n",
      "news 링크 = https://n.news.naver.com/mnews/article/094/0000011976\n",
      "news 제목 = '300원 효과' 쏠쏠하네…'세대교체' 아이코스, 전담 영토 확대\n",
      "news 링크 = https://n.news.naver.com/mnews/article/277/0005455384\n",
      "news 제목 = [날씨클릭] 찜통더위 속 전국 곳곳 강한 소나기…시간당 50㎜ 안팎\n",
      "news 링크 = https://n.news.naver.com/mnews/article/422/0000674857\n",
      "news 제목 = 노년기 우울증 막으려면, 중년 때 ‘이것’ 많이 드세요\n",
      "news 링크 = https://n.news.naver.com/mnews/article/346/0000078454\n",
      "news 제목 = 암 환자 두 번 울리는 림프부종, 만성질환처럼 평생 관리해야\n",
      "news 링크 = https://n.news.naver.com/mnews/article/082/0001282727\n",
      "news 제목 = 불시에 찾아오는 '허리 디스크' 통증…빠르게 극복하려면?\n",
      "news 링크 = https://n.news.naver.com/mnews/article/586/0000084244\n",
      "news 제목 = [리빙톡] 짜릿한 수상레포츠…방심하다간 '찌릿'\n",
      "news 링크 = https://n.news.naver.com/mnews/article/001/0014856897\n",
      "news 제목 = \"벤츠 E클래스 제친 모델Y\"…테슬라, 국내 판매 2만대 돌파\n",
      "news 링크 = https://n.news.naver.com/mnews/article/277/0005455379\n",
      "news 제목 = BMW vs 벤츠, 여름 판매량에 희비 갈렸다…왜?\n",
      "news 링크 = https://n.news.naver.com/mnews/article/003/0012711592\n",
      "news 제목 = \"올림픽 보다가 7시간 이하 잤다?\"...오늘 당신의 상태는\n",
      "news 링크 = https://n.news.naver.com/mnews/article/296/0000080569\n",
      "news 제목 = \"XX여행사, 괜찮을까요?\"…티메프 쇼킹에 망설이는 휴가객들\n",
      "news 링크 = https://n.news.naver.com/mnews/article/421/0007712304\n",
      "news 제목 = 인력난 허덕이던 대학병원의 묘수? 꼼수?…사표낸 전공의 ‘일반의’로 뽑는다\n",
      "news 링크 = https://n.news.naver.com/mnews/article/009/0005345882\n",
      "news 제목 = [날씨] 찜통더위 이어져…강원 내륙·남부 강한 소나기\n",
      "news 링크 = https://n.news.naver.com/mnews/article/055/0001178970\n",
      "news 제목 = '월경 전 증후군'보다 독하다는 '월경 전 불쾌 장애'… 어떻게 다를까?\n",
      "news 링크 = https://n.news.naver.com/mnews/article/346/0000078453\n",
      "news 제목 = \"커피가 자장면보다 비싸다니…\" 낙인 찍힌 스타벅스의 항변\n",
      "news 링크 = https://n.news.naver.com/mnews/article/015/0005018479\n",
      "news 제목 = \"몸 때려 암도 낫게한다?\"...백신 불신해 모인 사람들, 기괴한 치유법 봤더니\n",
      "news 링크 = https://n.news.naver.com/mnews/article/296/0000080567\n",
      "news 제목 = [출근길 날씨] 폭염·열대야 계속…곳곳에 강한 소나기\n",
      "news 링크 = https://n.news.naver.com/mnews/article/056/0011775618\n",
      "news 제목 = [단독]기아, 다음 전기차는 세단형 'EV4'…내년 3월 7만대 양산\n",
      "news 링크 = https://n.news.naver.com/mnews/article/030/0003229304\n",
      "news 제목 = 팔다리는 가는데 뱃살만 잔뜩… ‘최악의 비만’ 유형은?\n",
      "news 링크 = https://n.news.naver.com/mnews/article/346/0000078452\n",
      "news 제목 = EV3·PV5…기아가 ‘미래 핵심車’ 들고 유럽으로 가는 이유는\n",
      "news 링크 = https://n.news.naver.com/mnews/article/018/0005805750\n",
      "news 제목 = 물놀이 후 귀 먹먹하고 가렵다면?...면봉보다 '이렇게' 하세요!\n",
      "news 링크 = https://n.news.naver.com/mnews/article/296/0000080565\n",
      "news 제목 = '전기차 대중화 원년' 외치던 車업계…지하주차장 화재에 '긴장'\n",
      "news 링크 = https://n.news.naver.com/mnews/article/421/0007712260\n",
      "news 제목 = \"매력 없는 여자일수록 빨리 죽는다\"..고교 졸업앨범 평생 추적한 결과 나왔다 [헬스톡]\n",
      "news 링크 = https://n.news.naver.com/mnews/article/014/0005223656\n"
     ]
    }
   ],
   "source": [
    "print_news(103,section_dict[103])"
   ]
  },
  {
   "cell_type": "markdown",
   "id": "323196dc",
   "metadata": {},
   "source": [
    "### 2. Image 다운로드\n",
    "* referer 요청 헤더를 반드시 설정해야 한다."
   ]
  },
  {
   "cell_type": "code",
   "execution_count": 11,
   "id": "c72d6cb1",
   "metadata": {},
   "outputs": [
    {
     "name": "stdout",
     "output_type": "stream",
     "text": [
      "writing to 20220804112251_d97bd1e1b38f0cd022e4e3639d2926b3_IMAG01_1.jpg (299319)\n",
      "writing to 20220804112251_d97bd1e1b38f0cd022e4e3639d2926b3_IMAG01_2.jpg (163333)\n",
      "writing to 20220804112251_d97bd1e1b38f0cd022e4e3639d2926b3_IMAG01_3.jpg (182530)\n"
     ]
    }
   ],
   "source": [
    "import requests\n",
    "import os\n",
    "\n",
    "req_header = {\n",
    "    'referer':'https://comic.naver.com/webtoon/detail?titleId=798173&no=5&amp;weekday=thu'\n",
    "}\n",
    "img_urls = [\n",
    "    'https://image-comic.pstatic.net/webtoon/798173/5/20220804112251_d97bd1e1b38f0cd022e4e3639d2926b3_IMAG01_1.jpg',\n",
    "    'https://image-comic.pstatic.net/webtoon/798173/5/20220804112251_d97bd1e1b38f0cd022e4e3639d2926b3_IMAG01_2.jpg',\n",
    "    'https://image-comic.pstatic.net/webtoon/798173/5/20220804112251_d97bd1e1b38f0cd022e4e3639d2926b3_IMAG01_3.jpg'\n",
    "]\n",
    "\n",
    "for img_url in img_urls:\n",
    "    res = requests.get(img_url, headers=req_header)\n",
    "    if res.ok:\n",
    "        # binary 데이터 추출\n",
    "        img_data = res.content\n",
    "        # url에서 file name을 가져오기\n",
    "        file_name = os.path.basename(img_url)\n",
    "        with open(file_name,'wb') as file:\n",
    "            print(f'writing to {file_name} ({len(img_data)})')\n",
    "            file.write(img_data)"
   ]
  },
  {
   "cell_type": "markdown",
   "id": "e8b00a04",
   "metadata": {},
   "source": [
    "* 현재 요청된 페이지의 image 모두 다운로드 해보기"
   ]
  },
  {
   "cell_type": "code",
   "execution_count": 12,
   "id": "b30f7bf5",
   "metadata": {},
   "outputs": [
    {
     "name": "stdout",
     "output_type": "stream",
     "text": [
      "0 https://image-comic.pstatic.net/webtoon/817945/37/20240226100634_548bfa8f14799d53d45b5f12df1b289e_IMAG01_1.jpg\n",
      "writing to img\\20240226100634_548bfa8f14799d53d45b5f12df1b289e_IMAG01_1.jpg (128,897 bytes)\n",
      "1 https://image-comic.pstatic.net/webtoon/817945/37/20240226100634_548bfa8f14799d53d45b5f12df1b289e_IMAG01_2.jpg\n",
      "writing to img\\20240226100634_548bfa8f14799d53d45b5f12df1b289e_IMAG01_2.jpg (143,194 bytes)\n",
      "2 https://image-comic.pstatic.net/webtoon/817945/37/20240226100634_548bfa8f14799d53d45b5f12df1b289e_IMAG01_3.jpg\n",
      "writing to img\\20240226100634_548bfa8f14799d53d45b5f12df1b289e_IMAG01_3.jpg (101,900 bytes)\n",
      "3 https://image-comic.pstatic.net/webtoon/817945/37/20240226100634_548bfa8f14799d53d45b5f12df1b289e_IMAG01_4.jpg\n",
      "writing to img\\20240226100634_548bfa8f14799d53d45b5f12df1b289e_IMAG01_4.jpg (112,007 bytes)\n",
      "4 https://image-comic.pstatic.net/webtoon/817945/37/20240226100634_548bfa8f14799d53d45b5f12df1b289e_IMAG01_5.jpg\n",
      "writing to img\\20240226100634_548bfa8f14799d53d45b5f12df1b289e_IMAG01_5.jpg (190,876 bytes)\n",
      "5 https://image-comic.pstatic.net/webtoon/817945/37/20240226100634_548bfa8f14799d53d45b5f12df1b289e_IMAG01_6.jpg\n",
      "writing to img\\20240226100634_548bfa8f14799d53d45b5f12df1b289e_IMAG01_6.jpg (134,590 bytes)\n",
      "6 https://image-comic.pstatic.net/webtoon/817945/37/20240226100634_548bfa8f14799d53d45b5f12df1b289e_IMAG01_7.jpg\n",
      "writing to img\\20240226100634_548bfa8f14799d53d45b5f12df1b289e_IMAG01_7.jpg (132,910 bytes)\n",
      "7 https://image-comic.pstatic.net/webtoon/817945/37/20240226100634_548bfa8f14799d53d45b5f12df1b289e_IMAG01_8.jpg\n",
      "writing to img\\20240226100634_548bfa8f14799d53d45b5f12df1b289e_IMAG01_8.jpg (174,434 bytes)\n",
      "8 https://image-comic.pstatic.net/webtoon/817945/37/20240226100634_548bfa8f14799d53d45b5f12df1b289e_IMAG01_9.jpg\n",
      "writing to img\\20240226100634_548bfa8f14799d53d45b5f12df1b289e_IMAG01_9.jpg (88,576 bytes)\n",
      "9 https://image-comic.pstatic.net/webtoon/817945/37/20240226100634_548bfa8f14799d53d45b5f12df1b289e_IMAG01_10.jpg\n",
      "writing to img\\20240226100634_548bfa8f14799d53d45b5f12df1b289e_IMAG01_10.jpg (177,240 bytes)\n",
      "10 https://image-comic.pstatic.net/webtoon/817945/37/20240226100634_548bfa8f14799d53d45b5f12df1b289e_IMAG01_11.jpg\n",
      "writing to img\\20240226100634_548bfa8f14799d53d45b5f12df1b289e_IMAG01_11.jpg (95,130 bytes)\n",
      "11 https://image-comic.pstatic.net/webtoon/817945/37/20240226100634_548bfa8f14799d53d45b5f12df1b289e_IMAG01_12.jpg\n",
      "writing to img\\20240226100634_548bfa8f14799d53d45b5f12df1b289e_IMAG01_12.jpg (109,718 bytes)\n",
      "12 https://image-comic.pstatic.net/webtoon/817945/37/20240226100634_548bfa8f14799d53d45b5f12df1b289e_IMAG01_13.jpg\n",
      "writing to img\\20240226100634_548bfa8f14799d53d45b5f12df1b289e_IMAG01_13.jpg (144,476 bytes)\n",
      "13 https://image-comic.pstatic.net/webtoon/817945/37/20240226100634_548bfa8f14799d53d45b5f12df1b289e_IMAG01_14.jpg\n",
      "writing to img\\20240226100634_548bfa8f14799d53d45b5f12df1b289e_IMAG01_14.jpg (127,739 bytes)\n",
      "14 https://image-comic.pstatic.net/webtoon/817945/37/20240226100634_548bfa8f14799d53d45b5f12df1b289e_IMAG01_15.jpg\n",
      "writing to img\\20240226100634_548bfa8f14799d53d45b5f12df1b289e_IMAG01_15.jpg (143,133 bytes)\n",
      "15 https://image-comic.pstatic.net/webtoon/817945/37/20240226100634_548bfa8f14799d53d45b5f12df1b289e_IMAG01_16.jpg\n",
      "writing to img\\20240226100634_548bfa8f14799d53d45b5f12df1b289e_IMAG01_16.jpg (159,328 bytes)\n",
      "16 https://image-comic.pstatic.net/webtoon/817945/37/20240226100634_548bfa8f14799d53d45b5f12df1b289e_IMAG01_17.jpg\n",
      "writing to img\\20240226100634_548bfa8f14799d53d45b5f12df1b289e_IMAG01_17.jpg (139,300 bytes)\n",
      "17 https://image-comic.pstatic.net/webtoon/817945/37/20240226100634_548bfa8f14799d53d45b5f12df1b289e_IMAG01_18.jpg\n",
      "writing to img\\20240226100634_548bfa8f14799d53d45b5f12df1b289e_IMAG01_18.jpg (54,967 bytes)\n"
     ]
    }
   ],
   "source": [
    "import requests\n",
    "import os\n",
    "\n",
    "webtoon_url = 'https://comic.naver.com/webtoon/detail?titleId=817945&no=37&week=mon'\n",
    "req_header = {\n",
    "    'referer': webtoon_url\n",
    "}\n",
    "res = requests.get(webtoon_url)\n",
    "if res.ok: #200\n",
    "    soup = BeautifulSoup(res.text, 'html.parser')\n",
    "\n",
    "    img_url_list = []\n",
    "    img_tag_list = soup.select(\"img[src*='IMAG01']\")\n",
    "    for img_tag in img_tag_list:\n",
    "        img_url_list.append(img_tag['src'])\n",
    "\n",
    "    img_dir_name = \"img\"\n",
    "    if not os.path.isdir(img_dir_name):\n",
    "        os.mkdir(img_dir_name)\n",
    "\n",
    "    for idx, img_url in enumerate(img_url_list):\n",
    "        print(idx,img_url)\n",
    "        res = requests.get(img_url, headers=req_header)\n",
    "        #print(res.status_code)\n",
    "        if res.ok:\n",
    "            # binary 데이터 추출\n",
    "            img_data = res.content\n",
    "            # url에서 file name을 가져오기\n",
    "            file_name = os.path.basename(img_url)\n",
    "            dir_name = os.path.join(img_dir_name,file_name)\n",
    "            with open(dir_name,'wb') as file:\n",
    "                print(f'writing to {dir_name} ({len(img_data):,} bytes)')\n",
    "                file.write(img_data)\n",
    "        else:\n",
    "            print(f'Error 발생 {res.status_code}')\n",
    "else:\n",
    "    print(res.status_code)"
   ]
  },
  {
   "cell_type": "markdown",
   "id": "2ac9f5f9",
   "metadata": {},
   "source": [
    "### 3. 파일 업로드 하기\n",
    "* http://httpbin.org/post 업로드 요청을 할 수 있는 url"
   ]
  },
  {
   "cell_type": "code",
   "execution_count": 15,
   "id": "04da4790",
   "metadata": {},
   "outputs": [],
   "source": [
    "import requests\n",
    "\n",
    "upload_dict = {\n",
    "    'img1' : open('img/f1.jpg', 'rb'),\n",
    "    'img2' : open('img/f2.jpg', 'rb')\n",
    "}\n",
    "url = \"http://httpbin.org/\"\n",
    "res = requests.post(url, files = upload_dict)"
   ]
  },
  {
   "cell_type": "markdown",
   "id": "7ad65f12",
   "metadata": {},
   "source": [
    "### 4. 단축 URL 생성하는 Open API 사용하기\n",
    "* urllib 사용"
   ]
  },
  {
   "cell_type": "code",
   "execution_count": 17,
   "id": "abbb0ebf",
   "metadata": {},
   "outputs": [
    {
     "name": "stdout",
     "output_type": "stream",
     "text": [
      "{\"result\":{\"url\":\"https://me2.do/FzQgoRUF\",\"hash\":\"FzQgoRUF\",\"orgUrl\":\"https://drive.google.com/drive/u/0/folders/1V_DK7Px5w_niEKLlWhDr_GPgIYHG3Du-\"},\"message\":\"ok\",\"code\":\"200\"}\n"
     ]
    }
   ],
   "source": [
    "import os\n",
    "import sys\n",
    "import urllib.request\n",
    "\n",
    "client_id = \"2NHyPwzvSxEACXfSQG7b\" # 개발자센터에서 발급받은 Client ID 값\n",
    "client_secret = \"5E_R6iuwKB\" # 개발자센터에서 발급받은 Client Secret 값\n",
    "encText = urllib.parse.quote(\"https://drive.google.com/drive/u/0/folders/1V_DK7Px5w_niEKLlWhDr_GPgIYHG3Du-\")\n",
    "data = \"url=\" + encText\n",
    "url = \"https://openapi.naver.com/v1/util/shorturl\"\n",
    "\n",
    "request = urllib.request.Request(url)\n",
    "request.add_header(\"X-Naver-Client-Id\",client_id)\n",
    "request.add_header(\"X-Naver-Client-Secret\",client_secret)\n",
    "\n",
    "response = urllib.request.urlopen(request, data=data.encode(\"utf-8\"))\n",
    "rescode = response.getcode()\n",
    "if(rescode==200):\n",
    "    response_body = response.read()\n",
    "    print(response_body.decode('utf-8'))\n",
    "else:\n",
    "    print(\"Error Code:\" + rescode)\n"
   ]
  },
  {
   "cell_type": "markdown",
   "id": "b7d984a6",
   "metadata": {},
   "source": [
    "* requests를 사용하는 코드로 변경하기\n",
    "* [requests docs](https://requests.readthedocs.io/en/latest/user/quickstart/)"
   ]
  },
  {
   "cell_type": "code",
   "execution_count": 21,
   "id": "727b427b",
   "metadata": {
    "scrolled": true
   },
   "outputs": [
    {
     "name": "stdout",
     "output_type": "stream",
     "text": [
      "{'result': {'url': 'https://me2.do/FzQgoRUF', 'hash': 'FzQgoRUF', 'orgUrl': 'https://drive.google.com/drive/u/0/folders/1V_DK7Px5w_niEKLlWhDr_GPgIYHG3Du-'}, 'message': 'ok', 'code': '200'}\n"
     ]
    }
   ],
   "source": [
    "import requests\n",
    "\n",
    "client_id = \"2NHyPwzvSxEACXfSQG7b\" # 개발자센터에서 발급받은 Client ID 값\n",
    "client_secret = \"5E_R6iuwKB\" # 개발자센터에서 발급받은 Client Secret 값\n",
    "\n",
    "origin_url = \"https://drive.google.com/drive/u/0/folders/1V_DK7Px5w_niEKLlWhDr_GPgIYHG3Du-\"\n",
    "\n",
    "req_param = {\n",
    "    'url' : origin_url\n",
    "}\n",
    "req_header = {\n",
    "    \"X-Naver-Client-Id\" : client_id,\n",
    "    \"X-Naver-Client-Secret\" : client_secret\n",
    "}\n",
    "service_url = \"https://openapi.naver.com/v1/util/shorturl\"\n",
    "res = requests.post(service_url, data=req_param, headers=req_header)\n",
    "\n",
    "if res.ok:\n",
    "    print(res.json())\n",
    "else:\n",
    "    print(f\"Error Code {res.status_code}\")\n"
   ]
  },
  {
   "cell_type": "markdown",
   "id": "d5e1179a",
   "metadata": {},
   "source": [
    "### 5. 블로그 검색하기"
   ]
  },
  {
   "cell_type": "code",
   "execution_count": 14,
   "id": "877d0c7f",
   "metadata": {},
   "outputs": [
    {
     "ename": "KeyError",
     "evalue": "'items'",
     "output_type": "error",
     "traceback": [
      "\u001b[1;31m---------------------------------------------------------------------------\u001b[0m",
      "\u001b[1;31mKeyError\u001b[0m                                  Traceback (most recent call last)",
      "Cell \u001b[1;32mIn[14], line 18\u001b[0m\n\u001b[0;32m     15\u001b[0m url \u001b[38;5;241m=\u001b[39m \u001b[38;5;124m'\u001b[39m\u001b[38;5;124mhttps://openapi.naver.com/v1/search/blog.json\u001b[39m\u001b[38;5;124m'\u001b[39m\n\u001b[0;32m     17\u001b[0m res \u001b[38;5;241m=\u001b[39m requests\u001b[38;5;241m.\u001b[39mget(url, params\u001b[38;5;241m=\u001b[39mpayload, headers\u001b[38;5;241m=\u001b[39mheaders)\n\u001b[1;32m---> 18\u001b[0m items_data \u001b[38;5;241m=\u001b[39m res\u001b[38;5;241m.\u001b[39mjson()[\u001b[38;5;124m'\u001b[39m\u001b[38;5;124mitems\u001b[39m\u001b[38;5;124m'\u001b[39m]\n\u001b[0;32m     19\u001b[0m \u001b[38;5;66;03m#print(items_data)\u001b[39;00m\n\u001b[0;32m     21\u001b[0m items_list \u001b[38;5;241m=\u001b[39m \u001b[38;5;28mlist\u001b[39m()\n",
      "\u001b[1;31mKeyError\u001b[0m: 'items'"
     ]
    }
   ],
   "source": [
    "import requests\n",
    "import pprint\n",
    "\n",
    "headers = {\n",
    "    \"X-Naver-Client-Id\" : client_id,\n",
    "    \"X-Naver-Client-Secret\" : client_secret\n",
    "}\n",
    "\n",
    "payload = {\n",
    "    'query': '파이썬',\n",
    "    'display': 100,\n",
    "    'sort': 'sim'\n",
    "}\n",
    "\n",
    "url = 'https://openapi.naver.com/v1/search/blog.json'\n",
    "\n",
    "res = requests.get(url, params=payload, headers=headers)\n",
    "items_data = res.json()['items']\n",
    "#print(items_data)\n",
    "\n",
    "items_list = list()\n",
    "item_list = []\n",
    "for item in items_data:\n",
    "#     print(item)\n",
    "    item_list.append(item['title'])\n",
    "    item_list.append(item['bloggername'])\n",
    "    item_list.append(item['description'])\n",
    "    item_list.append(item['bloggerlink'])\n",
    "    item_list.append(item['link'])\n",
    "\n",
    "    items_list.append(item_list)\n",
    "    item_list = []\n",
    "\n",
    "print(items_list)\n",
    "\n",
    "with open('data/nhnblog.txt','w',encoding=\"utf-8\")as file:\n",
    "    for items in items_list:\n",
    "        for item in items:\n",
    "            item = item + '\\n'\n",
    "            file.write(item)\n",
    "        file.write('-'*150+'\\n')"
   ]
  }
 ],
 "metadata": {
  "kernelspec": {
   "display_name": "Python 3 (ipykernel)",
   "language": "python",
   "name": "python3"
  },
  "language_info": {
   "codemirror_mode": {
    "name": "ipython",
    "version": 3
   },
   "file_extension": ".py",
   "mimetype": "text/x-python",
   "name": "python",
   "nbconvert_exporter": "python",
   "pygments_lexer": "ipython3",
   "version": "3.12.4"
  }
 },
 "nbformat": 4,
 "nbformat_minor": 5
}
